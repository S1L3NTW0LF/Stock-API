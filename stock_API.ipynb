{
 "cells": [
  {
   "cell_type": "code",
   "execution_count": 1,
   "id": "8ccf054c",
   "metadata": {},
   "outputs": [],
   "source": [
    "import numpy as np\n",
    "import pandas as pd\n",
    "import requests\n",
    "import datetime\n",
    "import time"
   ]
  },
  {
   "cell_type": "code",
   "execution_count": 2,
   "id": "f690c771",
   "metadata": {},
   "outputs": [],
   "source": [
    "# all stocks from Fidelity website\n",
    "stock_list = pd.read_csv('screener_results.csv')\n",
    "stock_list = stock_list.loc[:, ['Symbol', 'Sector', 'Industry']]"
   ]
  },
  {
   "cell_type": "code",
   "execution_count": null,
   "id": "27ea196b",
   "metadata": {},
   "outputs": [],
   "source": [
    "# split_stock_list = np.array_split(stock_list, 5)"
   ]
  },
  {
   "cell_type": "code",
   "execution_count": null,
   "id": "a913224a",
   "metadata": {},
   "outputs": [],
   "source": [
    "symbol = 'MSFT'\n",
    "\n",
    "print(f'https://www.alphavantage.co/query?function=TIME_SERIES_WEEKLY_ADJUSTED&symbol={symbol}&outputsize=full&apikey={Special_API_key}')"
   ]
  },
  {
   "cell_type": "code",
   "execution_count": null,
   "id": "be34a63a",
   "metadata": {},
   "outputs": [],
   "source": [
    "# restore with \n",
    "%store -r error_load\n",
    "%store -r error_date\n",
    "%store -r master_df\n",
    "%store -r x "
   ]
  },
  {
   "cell_type": "code",
   "execution_count": 3,
   "id": "285b61f3",
   "metadata": {},
   "outputs": [],
   "source": [
    "master_df = pd.DataFrame()\n",
    "\n",
    "# counter (corresponds to stock_list index)\n",
    "x = 0\n",
    "\n",
    "error_load = pd.Series([], dtype=str)\n",
    "error_date = pd.Series([], dtype=str)"
   ]
  },
  {
   "cell_type": "code",
   "execution_count": 4,
   "id": "cafa43a1",
   "metadata": {},
   "outputs": [],
   "source": [
    "from secrets import special_api_key\n",
    "\n",
    "import functions as f"
   ]
  },
  {
   "cell_type": "code",
   "execution_count": null,
   "id": "155d0009",
   "metadata": {},
   "outputs": [],
   "source": [
    "def extract_single_set_of_financial_statements(income_data, cashflow_data, balancesheet_data, years_back):\n",
    "    inc_data = income_data['annualReports'][-years_back].copy()\n",
    "    cas_data = cashflow_data['annualReports'][-years_back].copy()\n",
    "    bal_data = balancesheet_data['annualReports'][-years_back].copy()\n",
    "    \n",
    "    return inc_data, cas_data, bal_data"
   ]
  },
  {
   "cell_type": "code",
   "execution_count": null,
   "id": "d8ce2ef9",
   "metadata": {},
   "outputs": [],
   "source": [
    "inc_data, cas_data, bal_data = f.extract_single_set_of_financial_statements(income_data, cash_data, balance_data, 1)"
   ]
  },
  {
   "cell_type": "code",
   "execution_count": 93,
   "id": "68c1769c",
   "metadata": {},
   "outputs": [],
   "source": [
    "error_load = pd.Series([], dtype=str)\n",
    "error_date = pd.Series([], dtype=str)"
   ]
  },
  {
   "cell_type": "code",
   "execution_count": 94,
   "id": "ad3653e6",
   "metadata": {},
   "outputs": [],
   "source": [
    "one = pd.Series([[2, 3, 2, 1]])\n",
    "two = pd.Series([[4, 2, 1, 6]])"
   ]
  },
  {
   "cell_type": "code",
   "execution_count": 98,
   "id": "e03a12fc",
   "metadata": {},
   "outputs": [
    {
     "name": "stderr",
     "output_type": "stream",
     "text": [
      "/tmp/ipykernel_1207619/423028936.py:1: FutureWarning: The series.append method is deprecated and will be removed from pandas in a future version. Use pandas.concat instead.\n",
      "  error_load = error_load.append(one, ignore_index=True)\n",
      "/tmp/ipykernel_1207619/423028936.py:2: FutureWarning: The series.append method is deprecated and will be removed from pandas in a future version. Use pandas.concat instead.\n",
      "  error_load = error_load.append(two, ignore_index=True)\n"
     ]
    }
   ],
   "source": [
    "error_load = error_load.append(one, ignore_index=True)\n",
    "error_load = error_load.append(two, ignore_index=True)"
   ]
  },
  {
   "cell_type": "code",
   "execution_count": 100,
   "id": "6538bf13",
   "metadata": {},
   "outputs": [
    {
     "data": {
      "text/plain": [
       "0    [2, 3, 2, 1]\n",
       "1    [4, 2, 1, 6]\n",
       "2    [2, 3, 2, 1]\n",
       "3    [4, 2, 1, 6]\n",
       "dtype: object"
      ]
     },
     "execution_count": 100,
     "metadata": {},
     "output_type": "execute_result"
    }
   ],
   "source": [
    "error_load"
   ]
  },
  {
   "cell_type": "code",
   "execution_count": null,
   "id": "a075eede",
   "metadata": {},
   "outputs": [],
   "source": [
    "error_load = pd.Series([], dtype=str)\n",
    "\n",
    "# Create List of list\n",
    "for i in range(5):\n",
    "    error_load.append([])\n",
    "    for j in range(3): \n",
    "        list[i].append(j)\n",
    "\n",
    "print(lst) "
   ]
  },
  {
   "cell_type": "code",
   "execution_count": 11,
   "id": "8eae4dc1",
   "metadata": {},
   "outputs": [
    {
     "data": {
      "text/plain": [
       "0    0    0    0    0    0\n",
       "dtype: int64\n",
       "0          ...\n",
       "0                                                    4\n",
       "dtype: object"
      ]
     },
     "execution_count": 11,
     "metadata": {},
     "output_type": "execute_result"
    }
   ],
   "source": [
    "def adds_symbol_to(error_list):    \n",
    "    error_list = pd.concat([error_list, pd.Series(stock)])\n",
    "    return error_list "
   ]
  },
  {
   "cell_type": "code",
   "execution_count": 5,
   "id": "b10e5567",
   "metadata": {},
   "outputs": [
    {
     "name": "stdout",
     "output_type": "stream",
     "text": [
      "0 AAPL\n"
     ]
    },
    {
     "ename": "KeyboardInterrupt",
     "evalue": "",
     "output_type": "error",
     "traceback": [
      "\u001b[0;31m---------------------------------------------------------------------------\u001b[0m",
      "\u001b[0;31mKeyboardInterrupt\u001b[0m                         Traceback (most recent call last)",
      "Input \u001b[0;32mIn [5]\u001b[0m, in \u001b[0;36m<cell line: 13>\u001b[0;34m()\u001b[0m\n\u001b[1;32m    108\u001b[0m \u001b[38;5;28mprint\u001b[39m(x, stock)\n\u001b[1;32m    109\u001b[0m x \u001b[38;5;241m+\u001b[39m\u001b[38;5;241m=\u001b[39m \u001b[38;5;241m1\u001b[39m \n\u001b[0;32m--> 111\u001b[0m \u001b[43mtime\u001b[49m\u001b[38;5;241;43m.\u001b[39;49m\u001b[43msleep\u001b[49m\u001b[43m(\u001b[49m\u001b[38;5;241;43m60\u001b[39;49m\u001b[43m)\u001b[49m\n",
      "\u001b[0;31mKeyboardInterrupt\u001b[0m: "
     ]
    }
   ],
   "source": [
    "# keep track of ranges (underlying facts about the data)\n",
    "# comparing first_date which is 5 to 11 days after earnings is announced to \n",
    "# second_date which is 341 to 347 days after earnings is announced \n",
    "\n",
    "master_df = pd.DataFrame()\n",
    "\n",
    "# counter (corresponds to stock_list index)\n",
    "x = 0\n",
    "\n",
    "error_load = pd.Series([], dtype=str)\n",
    "error_date = pd.Series([], dtype=str)\n",
    "\n",
    "for stock, sector, industry  in stock_list.values:\n",
    "    \n",
    "    income_data, cash_data, balance_data = f.make_api_call_for_financial_statements(stock, special_api_key)\n",
    "    price_data = f.make_api_call_for_price_time_series(stock, special_api_key)\n",
    "    \n",
    "    for years_back in range(5):\n",
    "        \n",
    "        try: \n",
    "\n",
    "            inc_data, cas_data, bal_data = f.extract_single_set_of_financial_statements(income_data, cash_data, balance_data, years_back)\n",
    "\n",
    "        except KeyError: \n",
    "            # len() should return 3 for each one, should return 0 if a valid api call was not performed, should return 1 if api call limit has been reached\n",
    "            print(f\"Error: {len(income_data)}{len(cash_data)}{len(balance_data)} could not load financial statements for \\t\\t {stock}\")\n",
    "\n",
    "            error_load = pd.concat([error_load, pd.Series(stock)])\n",
    "\n",
    "            x += 1 \n",
    "            time.sleep(60)\n",
    "            continue # skips rest of code in this loop \n",
    "\n",
    "\n",
    "        earnings_date = inc_data['fiscalDateEnding']\n",
    "        currency = inc_data['reportedCurrency']\n",
    "\n",
    "        first_date = datetime.datetime.strptime(earnings_date, '%Y-%m-%d')\n",
    "        weekday = int(first_date.strftime('%w')) # Sunday is 0 and Saturday is 6. \n",
    "\n",
    "        # changes the date to the following friday if it is a weekday \n",
    "        if  weekday == 1: # Monday  \n",
    "            first_date += datetime.timedelta(11)\n",
    "        elif weekday == 2: \n",
    "            first_date += datetime.timedelta(10)\n",
    "        elif weekday == 3: \n",
    "            first_date += datetime.timedelta(9)\n",
    "        elif weekday == 4: \n",
    "            first_date += datetime.timedelta(8)\n",
    "        elif weekday == 5: \n",
    "            first_date += datetime.timedelta(7) \n",
    "        elif weekday == 6: \n",
    "            first_date += datetime.timedelta(6)\n",
    "        elif weekday == 0: # Sunday \n",
    "            first_date += datetime.timedelta(5)\n",
    "\n",
    "        # has to be a multiple of 7 (Ex. 7 * 48 = 336)\n",
    "        # second_date should be before next years annual earnings announcement\n",
    "        second_date = first_date + datetime.timedelta(336)\n",
    "\n",
    "        first_date = first_date.strftime('%Y-%m-%d')\n",
    "        second_date = second_date.strftime('%Y-%m-%d')\n",
    "\n",
    "        try: \n",
    "            first_price = price_data['Weekly Adjusted Time Series'][first_date]['5. adjusted close']\n",
    "            second_price = price_data['Weekly Adjusted Time Series'][second_date]['5. adjusted close']\n",
    "        except KeyError: \n",
    "            # len(price_data) should return 2, should return 0 if a valid api call was not performed, should return 1 if api call limit has been reache\n",
    "            print(f\"Error: {len(price_data)} price_data does not contain {first_date} or {second_date} \\t\\t ({stock})\")\n",
    "\n",
    "            error_date = pd.concat([error_date, pd.Series(stock)])\n",
    "            x += 1 \n",
    "            time.sleep(60)\n",
    "            continue\n",
    "\n",
    "        first_price = float(first_price)\n",
    "        second_price = float(second_price)\n",
    "\n",
    "        perc_change = (second_price - first_price) / first_price\n",
    "\n",
    "        df_details = pd.DataFrame({'ticker': stock, \n",
    "                                   'sector': sector, \n",
    "                                   'industry': industry, \n",
    "                                   'earnings_date': earnings_date, \n",
    "                                   'currency': currency, \n",
    "                                   'current_price': first_price, \n",
    "                                   'following_price': second_price,\n",
    "                                   'first_price_date': first_date,\n",
    "                                   'second_price_date': second_date, \n",
    "                                   'percent_change': perc_change}, \n",
    "                                  index=[0])\n",
    "\n",
    "        df_inc = pd.DataFrame(inc_data, index=[0])\n",
    "        df_inc.drop(['fiscalDateEnding', 'reportedCurrency'], axis=1, inplace=True)\n",
    "\n",
    "        df_bal = pd.DataFrame(bal_data, index=[0])\n",
    "        df_bal.drop(['fiscalDateEnding', 'reportedCurrency'], axis=1, inplace=True)\n",
    "\n",
    "        df_cas = pd.DataFrame(cas_data, index=[0])\n",
    "        df_cas.drop(['fiscalDateEnding', 'reportedCurrency', 'netIncome'], axis=1, inplace=True)\n",
    "\n",
    "        df_all = pd.concat([df_details, df_inc, df_cas, df_bal], keys=['details', 'income', 'cash', 'balance'], axis=1)\n",
    "\n",
    "        master_df = pd.concat([master_df, df_all], ignore_index=True)\n",
    "\n",
    "\n",
    "\n",
    "        print(x, stock)\n",
    "        x += 1 \n",
    "\n",
    "        time.sleep(60)"
   ]
  },
  {
   "cell_type": "code",
   "execution_count": 6,
   "id": "bb7021e0",
   "metadata": {},
   "outputs": [
    {
     "data": {
      "text/html": [
       "<div>\n",
       "<style scoped>\n",
       "    .dataframe tbody tr th:only-of-type {\n",
       "        vertical-align: middle;\n",
       "    }\n",
       "\n",
       "    .dataframe tbody tr th {\n",
       "        vertical-align: top;\n",
       "    }\n",
       "\n",
       "    .dataframe thead tr th {\n",
       "        text-align: left;\n",
       "    }\n",
       "</style>\n",
       "<table border=\"1\" class=\"dataframe\">\n",
       "  <thead>\n",
       "    <tr>\n",
       "      <th></th>\n",
       "      <th colspan=\"10\" halign=\"left\">details</th>\n",
       "      <th>...</th>\n",
       "      <th colspan=\"10\" halign=\"left\">balance</th>\n",
       "    </tr>\n",
       "    <tr>\n",
       "      <th></th>\n",
       "      <th>ticker</th>\n",
       "      <th>sector</th>\n",
       "      <th>industry</th>\n",
       "      <th>earnings_date</th>\n",
       "      <th>currency</th>\n",
       "      <th>current_price</th>\n",
       "      <th>following_price</th>\n",
       "      <th>first_price_date</th>\n",
       "      <th>second_price_date</th>\n",
       "      <th>percent_change</th>\n",
       "      <th>...</th>\n",
       "      <th>currentLongTermDebt</th>\n",
       "      <th>longTermDebtNoncurrent</th>\n",
       "      <th>shortLongTermDebtTotal</th>\n",
       "      <th>otherCurrentLiabilities</th>\n",
       "      <th>otherNonCurrentLiabilities</th>\n",
       "      <th>totalShareholderEquity</th>\n",
       "      <th>treasuryStock</th>\n",
       "      <th>retainedEarnings</th>\n",
       "      <th>commonStock</th>\n",
       "      <th>commonStockSharesOutstanding</th>\n",
       "    </tr>\n",
       "  </thead>\n",
       "  <tbody>\n",
       "    <tr>\n",
       "      <th>0</th>\n",
       "      <td>AAPL</td>\n",
       "      <td>Information Technology</td>\n",
       "      <td>Technology Hardware, Storage &amp; Peripherals</td>\n",
       "      <td>2018-09-30</td>\n",
       "      <td>USD</td>\n",
       "      <td>54.0175</td>\n",
       "      <td>52.1629</td>\n",
       "      <td>2018-10-05</td>\n",
       "      <td>2019-09-06</td>\n",
       "      <td>-0.034333</td>\n",
       "      <td>...</td>\n",
       "      <td>8784000000</td>\n",
       "      <td>93735000000</td>\n",
       "      <td>220132000000</td>\n",
       "      <td>33327000000</td>\n",
       "      <td>48914000000</td>\n",
       "      <td>107147000000</td>\n",
       "      <td>None</td>\n",
       "      <td>70400000000</td>\n",
       "      <td>40201000000</td>\n",
       "      <td>4754986000</td>\n",
       "    </tr>\n",
       "  </tbody>\n",
       "</table>\n",
       "<p>1 rows × 96 columns</p>\n",
       "</div>"
      ],
      "text/plain": [
       "  details                                                                      \\\n",
       "   ticker                  sector                                    industry   \n",
       "0    AAPL  Information Technology  Technology Hardware, Storage & Peripherals   \n",
       "\n",
       "                                                                         \\\n",
       "  earnings_date currency current_price following_price first_price_date   \n",
       "0    2018-09-30      USD       54.0175         52.1629       2018-10-05   \n",
       "\n",
       "                                    ...             balance  \\\n",
       "  second_price_date percent_change  ... currentLongTermDebt   \n",
       "0        2019-09-06      -0.034333  ...          8784000000   \n",
       "\n",
       "                                                                         \\\n",
       "  longTermDebtNoncurrent shortLongTermDebtTotal otherCurrentLiabilities   \n",
       "0            93735000000           220132000000             33327000000   \n",
       "\n",
       "                                                                   \\\n",
       "  otherNonCurrentLiabilities totalShareholderEquity treasuryStock   \n",
       "0                48914000000           107147000000          None   \n",
       "\n",
       "                                                              \n",
       "  retainedEarnings  commonStock commonStockSharesOutstanding  \n",
       "0      70400000000  40201000000                   4754986000  \n",
       "\n",
       "[1 rows x 96 columns]"
      ]
     },
     "execution_count": 6,
     "metadata": {},
     "output_type": "execute_result"
    }
   ],
   "source": [
    "master_df"
   ]
  },
  {
   "cell_type": "code",
   "execution_count": null,
   "id": "b17fd2b1",
   "metadata": {},
   "outputs": [],
   "source": [
    "cash_data['Note']"
   ]
  },
  {
   "cell_type": "code",
   "execution_count": null,
   "id": "22b5d6c8",
   "metadata": {},
   "outputs": [],
   "source": [
    "master_df"
   ]
  },
  {
   "cell_type": "code",
   "execution_count": null,
   "id": "ead20ece",
   "metadata": {},
   "outputs": [],
   "source": [
    "%store error_load \n",
    "%store error_date \n",
    "%store master_df\n",
    "%store x "
   ]
  },
  {
   "cell_type": "code",
   "execution_count": null,
   "id": "df7117a5",
   "metadata": {},
   "outputs": [],
   "source": [
    "master_df"
   ]
  },
  {
   "cell_type": "code",
   "execution_count": null,
   "id": "77b01b26",
   "metadata": {},
   "outputs": [],
   "source": [
    "# replaces any None values which are interpreted as a string which can not be changed to floats and then changes respective columns to floats\n",
    "master_df.iloc[:, 8:] = master_df.iloc[:, 8:].replace('None', np.nan).astype(float)"
   ]
  },
  {
   "cell_type": "code",
   "execution_count": null,
   "id": "cd684cbb",
   "metadata": {},
   "outputs": [],
   "source": [
    "# flattens column index \n",
    "master_df.columns = master_df.columns.get_level_values(1)"
   ]
  },
  {
   "cell_type": "code",
   "execution_count": null,
   "id": "d98ece9e",
   "metadata": {},
   "outputs": [],
   "source": [
    "master_df.to_csv('./financial_statements.csv', index=False)"
   ]
  }
 ],
 "metadata": {
  "kernelspec": {
   "display_name": "Python 3 (ipykernel)",
   "language": "python",
   "name": "python3"
  },
  "language_info": {
   "codemirror_mode": {
    "name": "ipython",
    "version": 3
   },
   "file_extension": ".py",
   "mimetype": "text/x-python",
   "name": "python",
   "nbconvert_exporter": "python",
   "pygments_lexer": "ipython3",
   "version": "3.9.12"
  }
 },
 "nbformat": 4,
 "nbformat_minor": 5
}
