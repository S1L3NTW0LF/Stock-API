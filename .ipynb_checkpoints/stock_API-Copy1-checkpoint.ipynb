{
 "cells": [
  {
   "cell_type": "code",
   "execution_count": 19,
   "id": "8ccf054c",
   "metadata": {},
   "outputs": [],
   "source": [
    "import numpy as np\n",
    "import pandas as pd\n",
    "import requests\n",
    "import datetime\n",
    "import time"
   ]
  },
  {
   "cell_type": "code",
   "execution_count": 20,
   "id": "5f8b717f-21b4-4522-93d8-36793be2de72",
   "metadata": {},
   "outputs": [],
   "source": [
    "# displays all columns and rows\n",
    "# pd.set_option('display.max_columns', None)\n",
    "# pd.set_option('display.max_rows', None)"
   ]
  },
  {
   "cell_type": "code",
   "execution_count": 21,
   "id": "f690c771",
   "metadata": {},
   "outputs": [],
   "source": [
    "# list of stocks is comprised of the top 500 stocks by market cap (from Fidelity) on March 22, 2022\n",
    "# ISSUE: range is by market cap but is range from future date (that do not line up with year of financial statements)\n",
    "stock_list = pd.read_csv('screener_results.csv')\n",
    "# stock_list = stock_list.iloc[:500, :]\n",
    "stock_list = stock_list.loc[:, ['Symbol', 'Sector', 'Industry']]"
   ]
  },
  {
   "cell_type": "code",
   "execution_count": 4,
   "id": "27ea196b",
   "metadata": {},
   "outputs": [],
   "source": [
    "# split_stock_list = np.array_split(stock_list, 5)"
   ]
  },
  {
   "cell_type": "code",
   "execution_count": 1,
   "id": "be34a63a",
   "metadata": {},
   "outputs": [
    {
     "name": "stdout",
     "output_type": "stream",
     "text": [
      "no stored variable or alias error_load\n",
      "no stored variable or alias error_date\n",
      "no stored variable or alias master_df\n",
      "no stored variable or alias x\n"
     ]
    }
   ],
   "source": [
    "# restore with \n",
    "%store -r error_load\n",
    "%store -r error_date\n",
    "%store -r master_df\n",
    "%store -r x "
   ]
  },
  {
   "cell_type": "code",
   "execution_count": 5,
   "id": "285b61f3",
   "metadata": {},
   "outputs": [],
   "source": [
    "# requests financial data from alphavantage API\n",
    "master_df = pd.DataFrame()\n",
    "\n",
    "# counter (corresponds to stock_list index)\n",
    "x = 0\n",
    "\n",
    "error_date = pd.Series([], dtype=str)"
   ]
  },
  {
   "cell_type": "code",
   "execution_count": 6,
   "id": "ee30cf45",
   "metadata": {},
   "outputs": [],
   "source": [
    "from secrets import Special_API_key"
   ]
  },
  {
   "cell_type": "code",
   "execution_count": 9,
   "id": "286585d6",
   "metadata": {},
   "outputs": [],
   "source": [
    "symbol = 'MSFT'"
   ]
  },
  {
   "cell_type": "code",
   "execution_count": 11,
   "id": "8218d7a8",
   "metadata": {},
   "outputs": [
    {
     "name": "stdout",
     "output_type": "stream",
     "text": [
      "https://www.alphavantage.co/query?function=TIME_SERIES_WEEKLY_ADJUSTED&symbol=MSFT&outputsize=full&apikey=XFQRBMDPUZ9G0CIA\n"
     ]
    }
   ],
   "source": [
    "print(f'https://www.alphavantage.co/query?function=TIME_SERIES_WEEKLY_ADJUSTED&symbol={symbol}&outputsize=full&apikey={Special_API_key}')"
   ]
  },
  {
   "cell_type": "code",
   "execution_count": null,
   "id": "84f135bc",
   "metadata": {},
   "outputs": [],
   "source": [
    "def "
   ]
  },
  {
   "cell_type": "code",
   "execution_count": 22,
   "id": "b10e5567",
   "metadata": {},
   "outputs": [
    {
     "name": "stdout",
     "output_type": "stream",
     "text": [
      "11 AAPL\n"
     ]
    },
    {
     "ename": "KeyboardInterrupt",
     "evalue": "",
     "output_type": "error",
     "traceback": [
      "\u001b[0;31m---------------------------------------------------------------------------\u001b[0m",
      "\u001b[0;31mKeyboardInterrupt\u001b[0m                         Traceback (most recent call last)",
      "Input \u001b[0;32mIn [22]\u001b[0m, in \u001b[0;36m<cell line: 5>\u001b[0;34m()\u001b[0m\n\u001b[1;32m    111\u001b[0m \u001b[38;5;28mprint\u001b[39m(x, symbol)\n\u001b[1;32m    112\u001b[0m x \u001b[38;5;241m+\u001b[39m\u001b[38;5;241m=\u001b[39m \u001b[38;5;241m1\u001b[39m \n\u001b[0;32m--> 114\u001b[0m \u001b[43mtime\u001b[49m\u001b[38;5;241;43m.\u001b[39;49m\u001b[43msleep\u001b[49m\u001b[43m(\u001b[49m\u001b[38;5;241;43m60\u001b[39;49m\u001b[43m)\u001b[49m\n",
      "\u001b[0;31mKeyboardInterrupt\u001b[0m: "
     ]
    }
   ],
   "source": [
    "# keep track of ranges (underlying facts about the data)\n",
    "# comparing first_date which is 5 to 11 days after earnings is announced to \n",
    "# second_date which is 341 to 347 after earnings is announced \n",
    "\n",
    "for stock, sector, industry  in stock_list.values:\n",
    "    \n",
    "    symbol = stock\n",
    "    \n",
    "    # if symbol is not valid then it will return an empty json object\n",
    "    income_api_url = f'https://www.alphavantage.co/query?function=INCOME_STATEMENT&symbol={symbol}&apikey={Special_API_key}'\n",
    "    income_data = requests.get(income_api_url).json()\n",
    "\n",
    "    cash_api_url = f'https://www.alphavantage.co/query?function=CASH_FLOW&symbol={symbol}&apikey={Special_API_key}'\n",
    "    cash_data = requests.get(cash_api_url).json()\n",
    "\n",
    "    balance_api_url = f'https://www.alphavantage.co/query?function=BALANCE_SHEET&symbol={symbol}&apikey={Special_API_key}'\n",
    "    balance_data = requests.get(balance_api_url).json()\n",
    "\n",
    "    price_api_url = f'https://www.alphavantage.co/query?function=TIME_SERIES_WEEKLY_ADJUSTED&symbol={symbol}&outputsize=full&apikey={Special_API_key}'\n",
    "    price_data = requests.get(price_api_url).json()\n",
    "    \n",
    "    try: \n",
    "        # extract financial statements \n",
    "        inc_data = income_data['annualReports'][-1].copy()\n",
    "        cas_data = cash_data['annualReports'][-1].copy()\n",
    "        bal_data = balance_data['annualReports'][-1].copy()\n",
    "    \n",
    "    except KeyError: \n",
    "        # len() should return 3 for each one, should return 0 if a valid api call was not performed, should return 1 if api call limit has been reached\n",
    "        print(f\"Error: {len(income_data)}{len(cash_data)}{len(balance_data)} could not load financial statements for /t/t {symbol}\")\n",
    "            \n",
    "        error_load = pd.concat([error_load, pd.Series(symbol)])\n",
    "        x += 1 \n",
    "        time.sleep(60)\n",
    "        continue # skips rest of code in this loop \n",
    "\n",
    "\n",
    "    earnings_date = inc_data['fiscalDateEnding']\n",
    "    currency = inc_data['reportedCurrency']\n",
    "\n",
    "    first_date = datetime.datetime.strptime(earnings_date, '%Y-%m-%d')\n",
    "    weekday = int(first_date.strftime('%w')) # Sunday is 0 and Saturday is 6. \n",
    "    \n",
    "    # changes the date to the following friday if it is a weekday \n",
    "    if  weekday == 1: # Monday  \n",
    "        first_date += datetime.timedelta(11)\n",
    "    elif weekday == 2: \n",
    "        first_date += datetime.timedelta(10)\n",
    "    elif weekday == 3: \n",
    "        first_date += datetime.timedelta(9)\n",
    "    elif weekday == 4: \n",
    "        first_date += datetime.timedelta(8)\n",
    "    elif weekday == 5: \n",
    "        first_date += datetime.timedelta(7) \n",
    "    elif weekday == 6: \n",
    "        first_date += datetime.timedelta(6)\n",
    "    elif weekday == 0: # Sunday \n",
    "        first_date += datetime.timedelta(5)\n",
    "    \n",
    "    # has to be a multiple of 7 (Ex. 7 * 48 = 336)\n",
    "    # second_date should be before next years annual earnings announcement\n",
    "    second_date = first_date + datetime.timedelta(336)\n",
    "    \n",
    "    first_date = first_date.strftime('%Y-%m-%d')\n",
    "    second_date = second_date.strftime('%Y-%m-%d')\n",
    "    \n",
    "    try: \n",
    "        first_price = price_data['Weekly Adjusted Time Series'][first_date]['5. adjusted close']\n",
    "        second_price = price_data['Weekly Adjusted Time Series'][second_date]['5. adjusted close']\n",
    "    except KeyError: \n",
    "        # len(price_data) should return 2, should return 0 if a valid api call was not performed, should return 1 if api call limit has been reache\n",
    "        print(f\"Error: {len(price_data)} price_data does not contain {first_date} or {second_date} /t/t ({symbol})\")\n",
    "        \n",
    "        error_date = pd.concat([error_date, pd.Series(symbol)])\n",
    "        x += 1 \n",
    "        time.sleep(60)\n",
    "        continue\n",
    "        \n",
    "    first_price = float(first_price)\n",
    "    second_price = float(second_price)\n",
    "\n",
    "    perc_change = (second_price - first_price) / first_price\n",
    "\n",
    "    df_details = pd.DataFrame({'ticker': symbol, \n",
    "                               'sector': sector, \n",
    "                               'industry': industry, \n",
    "                               'earnings_date': earnings_date, \n",
    "                               'currency': currency, \n",
    "                               'current_price': first_price, \n",
    "                               'following_price': second_price,\n",
    "                               'first_price_date': first_date,\n",
    "                               'second_price_date': second_date, \n",
    "                               'percent_change': perc_change}, \n",
    "                              index=[0])\n",
    "\n",
    "    df_inc = pd.DataFrame(inc_data, index=[0])\n",
    "    df_inc.drop(['fiscalDateEnding', 'reportedCurrency'], axis=1, inplace=True)\n",
    "\n",
    "    df_bal = pd.DataFrame(bal_data, index=[0])\n",
    "    df_bal.drop(['fiscalDateEnding', 'reportedCurrency'], axis=1, inplace=True)\n",
    "\n",
    "    df_cas = pd.DataFrame(cas_data, index=[0])\n",
    "    df_cas.drop(['fiscalDateEnding', 'reportedCurrency', 'netIncome'], axis=1, inplace=True)\n",
    "\n",
    "    df_all = pd.concat([df_details, df_inc, df_cas, df_bal], keys=['details', 'income', 'cash', 'balance'], axis=1)\n",
    "\n",
    "    master_df = pd.concat([master_df, df_all], ignore_index=True)\n",
    "    \n",
    "    \n",
    "    \n",
    "    print(x, symbol)\n",
    "    x += 1 \n",
    "    \n",
    "    time.sleep(60)"
   ]
  },
  {
   "cell_type": "code",
   "execution_count": 16,
   "id": "b17fd2b1",
   "metadata": {},
   "outputs": [
    {
     "data": {
      "text/plain": [
       "'Thank you for using Alpha Vantage! Our standard API call frequency is 5 calls per minute and 500 calls per day. Please visit https://www.alphavantage.co/premium/ if you would like to target a higher API call frequency.'"
      ]
     },
     "execution_count": 16,
     "metadata": {},
     "output_type": "execute_result"
    }
   ],
   "source": [
    "cash_data['Note']"
   ]
  },
  {
   "cell_type": "code",
   "execution_count": 8,
   "id": "22b5d6c8",
   "metadata": {},
   "outputs": [
    {
     "data": {
      "text/html": [
       "<div>\n",
       "<style scoped>\n",
       "    .dataframe tbody tr th:only-of-type {\n",
       "        vertical-align: middle;\n",
       "    }\n",
       "\n",
       "    .dataframe tbody tr th {\n",
       "        vertical-align: top;\n",
       "    }\n",
       "\n",
       "    .dataframe thead tr th {\n",
       "        text-align: left;\n",
       "    }\n",
       "</style>\n",
       "<table border=\"1\" class=\"dataframe\">\n",
       "  <thead>\n",
       "    <tr>\n",
       "      <th></th>\n",
       "      <th colspan=\"10\" halign=\"left\">details</th>\n",
       "      <th>...</th>\n",
       "      <th colspan=\"10\" halign=\"left\">balance</th>\n",
       "    </tr>\n",
       "    <tr>\n",
       "      <th></th>\n",
       "      <th>ticker</th>\n",
       "      <th>sector</th>\n",
       "      <th>industry</th>\n",
       "      <th>earnings_date</th>\n",
       "      <th>currency</th>\n",
       "      <th>curr_price_date</th>\n",
       "      <th>foll_price_date</th>\n",
       "      <th>current_price</th>\n",
       "      <th>following_price</th>\n",
       "      <th>percent_change</th>\n",
       "      <th>...</th>\n",
       "      <th>currentLongTermDebt</th>\n",
       "      <th>longTermDebtNoncurrent</th>\n",
       "      <th>shortLongTermDebtTotal</th>\n",
       "      <th>otherCurrentLiabilities</th>\n",
       "      <th>otherNonCurrentLiabilities</th>\n",
       "      <th>totalShareholderEquity</th>\n",
       "      <th>treasuryStock</th>\n",
       "      <th>retainedEarnings</th>\n",
       "      <th>commonStock</th>\n",
       "      <th>commonStockSharesOutstanding</th>\n",
       "    </tr>\n",
       "  </thead>\n",
       "  <tbody>\n",
       "    <tr>\n",
       "      <th>0</th>\n",
       "      <td>AAPL</td>\n",
       "      <td>Information Technology</td>\n",
       "      <td>Technology Hardware, Storage &amp; Peripherals</td>\n",
       "      <td>2018-09-30</td>\n",
       "      <td>USD</td>\n",
       "      <td>2018-10-05</td>\n",
       "      <td>2019-09-06</td>\n",
       "      <td>54.0175</td>\n",
       "      <td>52.1629</td>\n",
       "      <td>-0.034333</td>\n",
       "      <td>...</td>\n",
       "      <td>8784000000</td>\n",
       "      <td>93735000000</td>\n",
       "      <td>220132000000</td>\n",
       "      <td>33327000000</td>\n",
       "      <td>48914000000</td>\n",
       "      <td>107147000000</td>\n",
       "      <td>None</td>\n",
       "      <td>70400000000</td>\n",
       "      <td>40201000000</td>\n",
       "      <td>4754986000</td>\n",
       "    </tr>\n",
       "    <tr>\n",
       "      <th>1</th>\n",
       "      <td>MSFT</td>\n",
       "      <td>Information Technology</td>\n",
       "      <td>Software</td>\n",
       "      <td>2018-06-30</td>\n",
       "      <td>USD</td>\n",
       "      <td>2018-07-06</td>\n",
       "      <td>2019-06-07</td>\n",
       "      <td>96.3671</td>\n",
       "      <td>127.2179</td>\n",
       "      <td>0.320138</td>\n",
       "      <td>...</td>\n",
       "      <td>3998000000</td>\n",
       "      <td>72242000000</td>\n",
       "      <td>76200000000</td>\n",
       "      <td>8744000000</td>\n",
       "      <td>5211000000</td>\n",
       "      <td>82718000000</td>\n",
       "      <td>None</td>\n",
       "      <td>13682000000</td>\n",
       "      <td>71223000000</td>\n",
       "      <td>7677000000</td>\n",
       "    </tr>\n",
       "  </tbody>\n",
       "</table>\n",
       "<p>2 rows × 96 columns</p>\n",
       "</div>"
      ],
      "text/plain": [
       "  details                                                                      \\\n",
       "   ticker                  sector                                    industry   \n",
       "0    AAPL  Information Technology  Technology Hardware, Storage & Peripherals   \n",
       "1    MSFT  Information Technology                                    Software   \n",
       "\n",
       "                                                                        \\\n",
       "  earnings_date currency curr_price_date foll_price_date current_price   \n",
       "0    2018-09-30      USD      2018-10-05      2019-09-06       54.0175   \n",
       "1    2018-06-30      USD      2018-07-06      2019-06-07       96.3671   \n",
       "\n",
       "                                  ...             balance  \\\n",
       "  following_price percent_change  ... currentLongTermDebt   \n",
       "0         52.1629      -0.034333  ...          8784000000   \n",
       "1        127.2179       0.320138  ...          3998000000   \n",
       "\n",
       "                                                                         \\\n",
       "  longTermDebtNoncurrent shortLongTermDebtTotal otherCurrentLiabilities   \n",
       "0            93735000000           220132000000             33327000000   \n",
       "1            72242000000            76200000000              8744000000   \n",
       "\n",
       "                                                                   \\\n",
       "  otherNonCurrentLiabilities totalShareholderEquity treasuryStock   \n",
       "0                48914000000           107147000000          None   \n",
       "1                 5211000000            82718000000          None   \n",
       "\n",
       "                                                              \n",
       "  retainedEarnings  commonStock commonStockSharesOutstanding  \n",
       "0      70400000000  40201000000                   4754986000  \n",
       "1      13682000000  71223000000                   7677000000  \n",
       "\n",
       "[2 rows x 96 columns]"
      ]
     },
     "execution_count": 8,
     "metadata": {},
     "output_type": "execute_result"
    }
   ],
   "source": [
    "master_df"
   ]
  },
  {
   "cell_type": "code",
   "execution_count": 17,
   "id": "ead20ece",
   "metadata": {},
   "outputs": [
    {
     "name": "stdout",
     "output_type": "stream",
     "text": [
      "Stored 'error_load' (Series)\n",
      "Stored 'error_date' (Series)\n",
      "Stored 'master_df' (DataFrame)\n",
      "Stored 'x' (int)\n"
     ]
    }
   ],
   "source": [
    "%store error_load \n",
    "%store error_date \n",
    "%store master_df\n",
    "%store x "
   ]
  },
  {
   "cell_type": "code",
   "execution_count": 3,
   "id": "df7117a5",
   "metadata": {},
   "outputs": [
    {
     "ename": "NameError",
     "evalue": "name 'master_df' is not defined",
     "output_type": "error",
     "traceback": [
      "\u001b[0;31m---------------------------------------------------------------------------\u001b[0m",
      "\u001b[0;31mNameError\u001b[0m                                 Traceback (most recent call last)",
      "Input \u001b[0;32mIn [3]\u001b[0m, in \u001b[0;36m<cell line: 1>\u001b[0;34m()\u001b[0m\n\u001b[0;32m----> 1\u001b[0m \u001b[43mmaster_df\u001b[49m\n",
      "\u001b[0;31mNameError\u001b[0m: name 'master_df' is not defined"
     ]
    }
   ],
   "source": [
    "master_df"
   ]
  },
  {
   "cell_type": "code",
   "execution_count": null,
   "id": "77b01b26",
   "metadata": {},
   "outputs": [],
   "source": [
    "# replaces any None values which are interpreted as a string which can not be changed to floats and then changes respective columns to floats\n",
    "master_df.iloc[:, 8:] = master_df.iloc[:, 8:].replace('None', np.nan).astype(float)"
   ]
  },
  {
   "cell_type": "code",
   "execution_count": 25,
   "id": "cd684cbb",
   "metadata": {},
   "outputs": [],
   "source": [
    "# flattens column index \n",
    "master_df.columns = master_df.columns.get_level_values(1)"
   ]
  },
  {
   "cell_type": "code",
   "execution_count": 26,
   "id": "d98ece9e",
   "metadata": {},
   "outputs": [],
   "source": [
    "master_df.to_csv('./financial_statements.csv', index=False)"
   ]
  }
 ],
 "metadata": {
  "kernelspec": {
   "display_name": "Python 3 (ipykernel)",
   "language": "python",
   "name": "python3"
  },
  "language_info": {
   "codemirror_mode": {
    "name": "ipython",
    "version": 3
   },
   "file_extension": ".py",
   "mimetype": "text/x-python",
   "name": "python",
   "nbconvert_exporter": "python",
   "pygments_lexer": "ipython3",
   "version": "3.9.12"
  }
 },
 "nbformat": 4,
 "nbformat_minor": 5
}
