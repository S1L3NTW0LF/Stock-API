{
 "cells": [
  {
   "cell_type": "code",
   "execution_count": 15,
   "id": "8ccf054c",
   "metadata": {},
   "outputs": [],
   "source": [
    "import numpy as np\n",
    "import pandas as pd\n",
    "import requests\n",
    "import datetime\n",
    "import time\n",
    "import json"
   ]
  },
  {
   "cell_type": "code",
   "execution_count": 2,
   "id": "f690c771",
   "metadata": {},
   "outputs": [],
   "source": [
    "# all stocks from Fidelity website\n",
    "stock_list = pd.read_csv('screener_results.csv')\n",
    "stock_list = stock_list.loc[:, 'Symbol']"
   ]
  },
  {
   "cell_type": "code",
   "execution_count": 3,
   "id": "5038566d",
   "metadata": {},
   "outputs": [],
   "source": [
    "from secrets import special_api_key\n",
    "import functions as f"
   ]
  },
  {
   "cell_type": "code",
   "execution_count": 57,
   "id": "890f9ec5",
   "metadata": {},
   "outputs": [],
   "source": [
    "start_list = list(range(0,9780,100))\n",
    "\n",
    "finish_list = list(range(100,9900,100))"
   ]
  },
  {
   "cell_type": "code",
   "execution_count": 16,
   "id": "8dfe0ff5",
   "metadata": {
    "scrolled": true
   },
   "outputs": [],
   "source": [
    "def collect_data(start, finish):\n",
    "    \n",
    "    master_dict = {}\n",
    "    x = 0\n",
    "\n",
    "    for stock in stock_list.values[start:finish]:\n",
    "\n",
    "        income_data, cash_data, balance_data = f.make_api_call_for_financial_statements(stock, special_api_key)\n",
    "        price_data = f.make_api_call_for_price_time_series(stock, special_api_key)\n",
    "\n",
    "\n",
    "        master_dict[stock] = {'income_data': income_data, 'cash_data': cash_data, 'balance_data': balance_data, 'price_data': price_data}\n",
    "\n",
    "\n",
    "        print(x, stock)\n",
    "        x += 1 \n",
    "\n",
    "        time.sleep(60)\n",
    "\n",
    "    with open(f'{start}to{finish}.json', 'w') as file: \n",
    "        file.write(json.dumps(master_dict))"
   ]
  },
  {
   "cell_type": "code",
   "execution_count": 64,
   "id": "95ce8ef4",
   "metadata": {},
   "outputs": [
    {
     "name": "stdout",
     "output_type": "stream",
     "text": [
      "0 100\n",
      "100 200\n",
      "200 300\n",
      "300 400\n",
      "400 500\n",
      "500 600\n",
      "600 700\n",
      "700 800\n",
      "800 900\n",
      "900 1000\n",
      "1000 1100\n",
      "1100 1200\n",
      "1200 1300\n",
      "1300 1400\n",
      "1400 1500\n",
      "1500 1600\n",
      "1600 1700\n",
      "1700 1800\n",
      "1800 1900\n",
      "1900 2000\n",
      "2000 2100\n",
      "2100 2200\n",
      "2200 2300\n",
      "2300 2400\n",
      "2400 2500\n",
      "2500 2600\n",
      "2600 2700\n",
      "2700 2800\n",
      "2800 2900\n",
      "2900 3000\n",
      "3000 3100\n",
      "3100 3200\n",
      "3200 3300\n",
      "3300 3400\n",
      "3400 3500\n",
      "3500 3600\n",
      "3600 3700\n",
      "3700 3800\n",
      "3800 3900\n",
      "3900 4000\n",
      "4000 4100\n",
      "4100 4200\n",
      "4200 4300\n",
      "4300 4400\n",
      "4400 4500\n",
      "4500 4600\n",
      "4600 4700\n",
      "4700 4800\n",
      "4800 4900\n",
      "4900 5000\n",
      "5000 5100\n",
      "5100 5200\n",
      "5200 5300\n",
      "5300 5400\n",
      "5400 5500\n",
      "5500 5600\n",
      "5600 5700\n",
      "5700 5800\n",
      "5800 5900\n",
      "5900 6000\n",
      "6000 6100\n",
      "6100 6200\n",
      "6200 6300\n",
      "6300 6400\n",
      "6400 6500\n",
      "6500 6600\n",
      "6600 6700\n",
      "6700 6800\n",
      "6800 6900\n",
      "6900 7000\n",
      "7000 7100\n",
      "7100 7200\n",
      "7200 7300\n",
      "7300 7400\n",
      "7400 7500\n",
      "7500 7600\n",
      "7600 7700\n",
      "7700 7800\n",
      "7800 7900\n",
      "7900 8000\n",
      "8000 8100\n",
      "8100 8200\n",
      "8200 8300\n",
      "8300 8400\n",
      "8400 8500\n",
      "8500 8600\n",
      "8600 8700\n",
      "8700 8800\n",
      "8800 8900\n",
      "8900 9000\n",
      "9000 9100\n",
      "9100 9200\n",
      "9200 9300\n",
      "9300 9400\n",
      "9400 9500\n",
      "9500 9600\n",
      "9600 9700\n",
      "9700 9800\n"
     ]
    }
   ],
   "source": [
    "for start, finish in zip(start_list, finish_list):\n",
    "    collect_data(start, finish)\n",
    "    print(f'\\t\\t\\t{start}:{finish}')"
   ]
  },
  {
   "cell_type": "code",
   "execution_count": null,
   "id": "8a82214c",
   "metadata": {},
   "outputs": [],
   "source": []
  }
 ],
 "metadata": {
  "kernelspec": {
   "display_name": "Python 3 (ipykernel)",
   "language": "python",
   "name": "python3"
  },
  "language_info": {
   "codemirror_mode": {
    "name": "ipython",
    "version": 3
   },
   "file_extension": ".py",
   "mimetype": "text/x-python",
   "name": "python",
   "nbconvert_exporter": "python",
   "pygments_lexer": "ipython3",
   "version": "3.9.12"
  }
 },
 "nbformat": 4,
 "nbformat_minor": 5
}
