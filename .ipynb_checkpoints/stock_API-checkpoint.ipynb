{
 "cells": [
  {
   "cell_type": "code",
   "execution_count": 1,
   "id": "8ccf054c",
   "metadata": {},
   "outputs": [],
   "source": [
    "import numpy as np\n",
    "import pandas as pd\n",
    "import requests\n",
    "import datetime\n",
    "import time"
   ]
  },
  {
   "cell_type": "code",
   "execution_count": 2,
   "id": "5f8b717f-21b4-4522-93d8-36793be2de72",
   "metadata": {},
   "outputs": [],
   "source": [
    "# displays all columns and rows\n",
    "# pd.set_option('display.max_columns', None)\n",
    "# pd.set_option('display.max_rows', None)"
   ]
  },
  {
   "cell_type": "code",
   "execution_count": 3,
   "id": "f690c771",
   "metadata": {},
   "outputs": [],
   "source": [
    "# list of stocks is comprised of the top 500 stocks by market cap (from Fidelity) on March 22, 2022\n",
    "# ISSUE: range is by market cap but is range from future date (that do not line up with year of financial statements)\n",
    "stock_list = pd.read_csv('screener_results.csv')\n",
    "# stock_list = stock_list.iloc[:500, :]\n",
    "stock_list = stock_list.loc[:, ['Symbol', 'Sector', 'Industry']]"
   ]
  },
  {
   "cell_type": "code",
   "execution_count": 4,
   "id": "e02d2a6f",
   "metadata": {},
   "outputs": [],
   "source": [
    "# split_stock_list = np.array_split(stock_list, 5)"
   ]
  },
  {
   "cell_type": "code",
   "execution_count": 1,
   "id": "be34a63a",
   "metadata": {},
   "outputs": [
    {
     "name": "stdout",
     "output_type": "stream",
     "text": [
      "no stored variable or alias error_load\n",
      "no stored variable or alias error_date\n",
      "no stored variable or alias master_df\n",
      "no stored variable or alias x\n"
     ]
    }
   ],
   "source": [
    "# restore with \n",
    "%store -r error_load\n",
    "%store -r error_date\n",
    "%store -r master_df\n",
    "%store -r x "
   ]
  },
  {
   "cell_type": "code",
   "execution_count": 5,
   "id": "285b61f3",
   "metadata": {},
   "outputs": [],
   "source": [
    "# requests financial data from alphavantage API\n",
    "master_df = pd.DataFrame()\n",
    "\n",
    "# counter (corresponds to stock_list index)\n",
    "x = 0\n",
    "\n",
    "error_load = pd.Series([], dtype=str)\n",
    "error_date = pd.Series([], dtype=str)"
   ]
  },
  {
   "cell_type": "code",
   "execution_count": 6,
   "id": "ee30cf45",
   "metadata": {},
   "outputs": [],
   "source": [
    "from secrets import Special_API_key"
   ]
  },
  {
   "cell_type": "code",
   "execution_count": 16,
   "id": "b10e5567",
   "metadata": {},
   "outputs": [
    {
     "name": "stdout",
     "output_type": "stream",
     "text": [
      "453 GWW\n",
      "454 LH\n",
      "455 TEF\n",
      "456 LYV\n",
      "457 PLTR\n",
      "458 CSGP\n",
      "459 LUV\n",
      "460 ZBH\n",
      "461 DB\n",
      "462 CAJ\n",
      "463 URI\n",
      "464 EIX\n",
      "465 HZNP\n",
      "466 FE\n",
      "467 ENPH\n",
      "468 SIRI\n",
      "469 FANG\n",
      "470 MOS\n",
      "471 INVH\n",
      "472 DTE\n",
      "473 IT\n",
      "474 SWK\n",
      "475 VMC\n",
      "476 MKC\n",
      "477 CDW\n",
      "478 MAA\n",
      "479 MLM\n",
      "480 NTRS\n",
      "481 VTR\n",
      "482 IX\n",
      "483 HIG\n",
      "484 VRSN\n",
      "485 CHD\n",
      "486 RPRX\n",
      "487 CQP\n",
      "488 CVNA\n",
      "489 UMC\n",
      "490 GMAB\n",
      "491 STE\n",
      "Error: price_data does not contain 2019-01-11 or 2019-12-13 (XPEV)\n",
      "493 MTB\n",
      "494 ALB\n",
      "495 DAL\n",
      "496 AEE\n",
      "497 ARES\n",
      "498 CLR\n",
      "499 BILL\n"
     ]
    }
   ],
   "source": [
    "# keep track of ranges\n",
    "# comparing earn_date which is 5 to 11 days after earnings is announced to \n",
    "# foll_earn_date which is 341 to 347 after earnings is announced \n",
    "\n",
    "for stock, sector, industry  in stock_list.values:\n",
    "    \n",
    "    symbol = stock\n",
    "    \n",
    "    # if symbol is not valid then it will return an empty json object\n",
    "    income_api_url = f'https://www.alphavantage.co/query?function=INCOME_STATEMENT&symbol={symbol}&apikey={Special_API_key}'\n",
    "    income_data = requests.get(income_api_url).json()\n",
    "\n",
    "    cash_api_url = f'https://www.alphavantage.co/query?function=CASH_FLOW&symbol={symbol}&apikey={Special_API_key}'\n",
    "    cash_data = requests.get(cash_api_url).json()\n",
    "\n",
    "    balance_api_url = f'https://www.alphavantage.co/query?function=BALANCE_SHEET&symbol={symbol}&apikey={Special_API_key}'\n",
    "    balance_data = requests.get(balance_api_url).json()\n",
    "\n",
    "    price_api_url = f'https://www.alphavantage.co/query?function=TIME_SERIES_WEEKLY_ADJUSTED&symbol={symbol}&outputsize=full&apikey={Special_API_key}'\n",
    "    price_data = requests.get(price_api_url).json()\n",
    "    \n",
    "    # extract financial statements \n",
    "    try: \n",
    "        inc_data = income_data['annualReports'][-1].copy()\n",
    "        cas_data = cash_data['annualReports'][-1].copy()\n",
    "        bal_data = balance_data['annualReports'][-1].copy()\n",
    "    except KeyError: \n",
    "         # should return 3 for each one, will return 0 if a valid api call was not performed, will return 1 if api call limit has been reached\n",
    "        print(f\"Error: {len(income_data)}{len(cash_data)}{len(balance_data)} could not load financial statements for {symbol}\")\n",
    "        \n",
    "        # confirms api 500 limit a day has been reached and if it has breaks the loop \n",
    "        try: \n",
    "            if len(income_data) == 1: \n",
    "                print(income_data['Information'])\n",
    "                break \n",
    "            elif len(cash_data) == 1: \n",
    "                print(cash_data['Information'])\n",
    "                break \n",
    "            elif len(balance_data) == 1: \n",
    "                print(balance_data['Information'])\n",
    "                break     \n",
    "        except KeyError:\n",
    "            # will print if the 5 api call per minute is exceeded \n",
    "            print(f'Errror: somthing else went wrong loading financial statements for {symbol}')\n",
    "            \n",
    "        error_load = pd.concat([error_load, pd.Series(symbol)])\n",
    "        x += 1 \n",
    "        time.sleep(120)\n",
    "        continue # skips rest of code in this loop \n",
    "\n",
    "    earnings_date = inc_data['fiscalDateEnding']\n",
    "    currency = inc_data['reportedCurrency']\n",
    "\n",
    "    earn_date = datetime.datetime.strptime(earnings_date, '%Y-%m-%d')\n",
    "    weekday = int(earn_date.strftime('%w')) # Sunday is 0 and Saturday is 6. \n",
    "    \n",
    "    # changes the date to the following friday if it is a weekday \n",
    "    if  weekday == 1: # Monday  \n",
    "        earn_date += datetime.timedelta(11)\n",
    "    elif weekday == 2: \n",
    "        earn_date += datetime.timedelta(10)\n",
    "    elif weekday == 3: \n",
    "        earn_date += datetime.timedelta(9)\n",
    "    elif weekday == 4: \n",
    "        earn_date += datetime.timedelta(8)\n",
    "    elif weekday == 5: \n",
    "        earn_date += datetime.timedelta(7) \n",
    "    elif weekday == 6: \n",
    "        earn_date += datetime.timedelta(6)\n",
    "    elif weekday == 0: # Sunday \n",
    "        earn_date += datetime.timedelta(5)\n",
    "    \n",
    "    # has to be a multiple of 7 (Ex. 7 * 48 = 336)\n",
    "    foll_earn_date = earn_date + datetime.timedelta(336)\n",
    "    \n",
    "    earn_date = earn_date.strftime('%Y-%m-%d')\n",
    "    foll_earn_date = foll_earn_date.strftime('%Y-%m-%d')\n",
    "    \n",
    "    try: \n",
    "        curr_price = price_data['Weekly Adjusted Time Series'][earn_date]['5. adjusted close']\n",
    "        foll_price = price_data['Weekly Adjusted Time Series'][foll_earn_date]['5. adjusted close']\n",
    "    except KeyError: \n",
    "        print(f'Error: price_data does not contain {earn_date} or {foll_earn_date} ({symbol})')\n",
    "    # TO DO Insert what length the price_data dictionary be usually?   \n",
    "        try: \n",
    "            if len(price_data) == 1: \n",
    "                print(price_data['Information'])\n",
    "                break \n",
    "        except KeyError: \n",
    "            print(f'Error: something else went wrong with price_data for {symbol}')\n",
    "        \n",
    "        error_date = pd.concat([error_date, pd.Series(symbol)])\n",
    "        x += 1 \n",
    "        time.sleep(120)\n",
    "        continue\n",
    "        \n",
    "    curr_price = float(curr_price)\n",
    "    foll_price = float(foll_price)\n",
    "\n",
    "    perc_change = (foll_price - curr_price) / curr_price\n",
    "\n",
    "    df_details = pd.DataFrame({'ticker': symbol, \n",
    "                               'sector': sector, \n",
    "                               'industry': industry, \n",
    "                               'earnings_date': earnings_date, \n",
    "                               'currency': currency, \n",
    "                               'curr_price_date': earn_date,\n",
    "                               'foll_price_date': foll_earn_date, \n",
    "                               'current_price': curr_price, \n",
    "                               'following_price': foll_price, \n",
    "                               'percent_change': perc_change}, \n",
    "                              index=[0])\n",
    "\n",
    "    df_inc = pd.DataFrame(inc_data, index=[0])\n",
    "    df_inc.drop(['fiscalDateEnding', 'reportedCurrency'], axis=1, inplace=True)\n",
    "\n",
    "    df_bal = pd.DataFrame(bal_data, index=[0])\n",
    "    df_bal.drop(['fiscalDateEnding', 'reportedCurrency'], axis=1, inplace=True)\n",
    "\n",
    "    df_cas = pd.DataFrame(cas_data, index=[0])\n",
    "    df_cas.drop(['fiscalDateEnding', 'reportedCurrency', 'netIncome'], axis=1, inplace=True)\n",
    "\n",
    "    df_all = pd.concat([df_details, df_inc, df_cas, df_bal], keys=['details', 'income', 'cash', 'balance'], axis=1)\n",
    "\n",
    "    master_df = pd.concat([master_df, df_all], ignore_index=True)\n",
    "    \n",
    "    print(x, symbol)\n",
    "    x += 1 \n",
    "    \n",
    "    time.sleep(60)"
   ]
  },
  {
   "cell_type": "code",
   "execution_count": 17,
   "id": "ead20ece",
   "metadata": {},
   "outputs": [
    {
     "name": "stdout",
     "output_type": "stream",
     "text": [
      "Stored 'error_load' (Series)\n",
      "Stored 'error_date' (Series)\n",
      "Stored 'master_df' (DataFrame)\n",
      "Stored 'x' (int)\n"
     ]
    }
   ],
   "source": [
    "%store error_load \n",
    "%store error_date \n",
    "%store master_df\n",
    "%store x "
   ]
  },
  {
   "cell_type": "code",
   "execution_count": 3,
   "id": "df7117a5",
   "metadata": {},
   "outputs": [
    {
     "ename": "NameError",
     "evalue": "name 'master_df' is not defined",
     "output_type": "error",
     "traceback": [
      "\u001b[0;31m---------------------------------------------------------------------------\u001b[0m",
      "\u001b[0;31mNameError\u001b[0m                                 Traceback (most recent call last)",
      "Input \u001b[0;32mIn [3]\u001b[0m, in \u001b[0;36m<cell line: 1>\u001b[0;34m()\u001b[0m\n\u001b[0;32m----> 1\u001b[0m \u001b[43mmaster_df\u001b[49m\n",
      "\u001b[0;31mNameError\u001b[0m: name 'master_df' is not defined"
     ]
    }
   ],
   "source": [
    "master_df"
   ]
  },
  {
   "cell_type": "code",
   "execution_count": null,
   "id": "77b01b26",
   "metadata": {},
   "outputs": [],
   "source": [
    "# replaces any None values which are interpreted as a string which can not be changed to floats and then changes respective columns to floats\n",
    "master_df.iloc[:, 8:] = master_df.iloc[:, 8:].replace('None', np.nan).astype(float)"
   ]
  },
  {
   "cell_type": "code",
   "execution_count": 25,
   "id": "cd684cbb",
   "metadata": {},
   "outputs": [],
   "source": [
    "# flattens column index \n",
    "master_df.columns = master_df.columns.get_level_values(1)"
   ]
  },
  {
   "cell_type": "code",
   "execution_count": 26,
   "id": "d98ece9e",
   "metadata": {},
   "outputs": [],
   "source": [
    "master_df.to_csv('./financial_statements.csv', index=False)"
   ]
  }
 ],
 "metadata": {
  "kernelspec": {
   "display_name": "Python 3 (ipykernel)",
   "language": "python",
   "name": "python3"
  },
  "language_info": {
   "codemirror_mode": {
    "name": "ipython",
    "version": 3
   },
   "file_extension": ".py",
   "mimetype": "text/x-python",
   "name": "python",
   "nbconvert_exporter": "python",
   "pygments_lexer": "ipython3",
   "version": "3.9.12"
  }
 },
 "nbformat": 4,
 "nbformat_minor": 5
}
