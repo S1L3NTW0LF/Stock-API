{
 "cells": [
  {
   "cell_type": "code",
   "execution_count": 2,
   "id": "8ccf054c",
   "metadata": {},
   "outputs": [],
   "source": [
    "import numpy as np\n",
    "import pandas as pd\n",
    "import requests\n",
    "import datetime\n",
    "import time\n",
    "import json"
   ]
  },
  {
   "cell_type": "code",
   "execution_count": 10,
   "id": "25e830cd",
   "metadata": {},
   "outputs": [],
   "source": [
    "# all stocks from Fidelity website as of 2022\n",
    "stock_list = pd.read_csv('screener_results.csv')"
   ]
  },
  {
   "cell_type": "code",
   "execution_count": 13,
   "id": "f690c771",
   "metadata": {},
   "outputs": [],
   "source": [
    "stock_list = stock_list[['Symbol', 'Sector', 'Industry']]"
   ]
  },
  {
   "cell_type": "code",
   "execution_count": 4,
   "id": "5038566d",
   "metadata": {},
   "outputs": [],
   "source": [
    "from secrets import special_api_key\n",
    "import functions as f"
   ]
  },
  {
   "cell_type": "code",
   "execution_count": null,
   "id": "c3857634",
   "metadata": {},
   "outputs": [],
   "source": [
    "collect_data"
   ]
  },
  {
   "cell_type": "code",
   "execution_count": 79,
   "id": "e5e82d33-37ed-4443-aef2-7178b2557f2f",
   "metadata": {},
   "outputs": [],
   "source": [
    "def collect_data(start=0):\n",
    "\n",
    "    x = start\n",
    "\n",
    "    for stock, sector, industry in stock_list.values[start:]:\n",
    "\n",
    "        income_data, cash_data, balance_data = f.make_api_call_for_financial_statements(stock, special_api_key)\n",
    "        price_data = f.make_api_call_for_price_time_series(stock, special_api_key)\n",
    "        \n",
    "        if len(income_data) == 0 and len(cash_data) == 0 and len(balance_data) == 0: \n",
    "            \n",
    "            print(f'Error: {stock}')\n",
    "            \n",
    "            with open(f'./error-lists/collect-load-error.csv', 'a') as file: \n",
    "                file.write(f'{stock}\\n')\n",
    "            \n",
    "            x += 1\n",
    "            continue\n",
    "        \n",
    "        master_dict = {'ticker': stock, 'sector': sector, 'industry': industry, 'income_data': income_data, 'cash_data': cash_data, 'balance_data': balance_data, 'price_data': price_data}\n",
    "        \n",
    "        time.sleep(61)\n",
    "        \n",
    "        print(x, stock)\n",
    "        x += 1\n",
    "\n",
    "        with open(f'json_files/{stock}.json', 'w') as file: \n",
    "            file.write(json.dumps(master_dict))"
   ]
  }
 ],
 "metadata": {
  "kernelspec": {
   "display_name": "Python 3 (ipykernel)",
   "language": "python",
   "name": "python3"
  },
  "language_info": {
   "codemirror_mode": {
    "name": "ipython",
    "version": 3
   },
   "file_extension": ".py",
   "mimetype": "text/x-python",
   "name": "python",
   "nbconvert_exporter": "python",
   "pygments_lexer": "ipython3",
   "version": "3.9.13"
  }
 },
 "nbformat": 4,
 "nbformat_minor": 5
}
