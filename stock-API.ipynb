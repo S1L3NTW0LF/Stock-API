{
 "cells": [
  {
   "cell_type": "code",
   "execution_count": 19,
   "id": "8ccf054c",
   "metadata": {},
   "outputs": [],
   "source": [
    "import numpy as np\n",
    "import pandas as pd\n",
    "import requests\n",
    "import datetime\n",
    "import time"
   ]
  },
  {
   "cell_type": "code",
   "execution_count": 20,
   "id": "5f8b717f-21b4-4522-93d8-36793be2de72",
   "metadata": {},
   "outputs": [],
   "source": [
    "# displays all columns and rows\n",
    "# pd.set_option('display.max_columns', None)\n",
    "# pd.set_option('display.max_rows', None)"
   ]
  },
  {
   "cell_type": "code",
   "execution_count": 21,
   "id": "f690c771",
   "metadata": {},
   "outputs": [],
   "source": [
    "# list of stocks is comprised of the top 500 stocks by market cap (from Fidelity) on March 22, 2022\n",
    "# ISSUE: range is by market cap but is range from future date (that do not line up with year of financial statements)\n",
    "stock_list = pd.read_csv('screener_results.csv')\n",
    "# stock_list = stock_list.iloc[:500, :]\n",
    "stock_list = stock_list.loc[:, ['Symbol', 'Sector', 'Industry']]"
   ]
  },
  {
   "cell_type": "code",
   "execution_count": 4,
   "id": "27ea196b",
   "metadata": {},
   "outputs": [],
   "source": [
    "# split_stock_list = np.array_split(stock_list, 5)"
   ]
  },
  {
   "cell_type": "code",
   "execution_count": 1,
   "id": "be34a63a",
   "metadata": {},
   "outputs": [
    {
     "name": "stdout",
     "output_type": "stream",
     "text": [
      "no stored variable or alias error_load\n",
      "no stored variable or alias error_date\n",
      "no stored variable or alias master_df\n",
      "no stored variable or alias x\n"
     ]
    }
   ],
   "source": [
    "# restore with \n",
    "%store -r error_load\n",
    "%store -r error_date\n",
    "%store -r master_df\n",
    "%store -r x "
   ]
  },
  {
   "cell_type": "code",
   "execution_count": 16,
   "id": "285b61f3",
   "metadata": {},
   "outputs": [],
   "source": [
    "# requests financial data from alphavantage API\n",
    "master_df = pd.DataFrame()\n",
    "\n",
    "# counter (corresponds to stock_list index)\n",
    "x = 0\n",
    "\n",
    "error_load = pd.Series([], dtype=str)\n",
    "error_date = pd.Series([], dtype=str)"
   ]
  },
  {
   "cell_type": "code",
   "execution_count": 2,
   "id": "ee30cf45",
   "metadata": {},
   "outputs": [],
   "source": [
    "from secrets import Special_API_key"
   ]
  },
  {
   "cell_type": "code",
   "execution_count": 3,
   "id": "286585d6",
   "metadata": {},
   "outputs": [],
   "source": [
    "symbol = 'MSFT'"
   ]
  },
  {
   "cell_type": "code",
   "execution_count": 4,
   "id": "8218d7a8",
   "metadata": {},
   "outputs": [
    {
     "name": "stdout",
     "output_type": "stream",
     "text": [
      "https://www.alphavantage.co/query?function=TIME_SERIES_WEEKLY_ADJUSTED&symbol=MSFT&outputsize=full&apikey=XFQRBMDPUZ9G0CIA\n"
     ]
    }
   ],
   "source": [
    "print(f'https://www.alphavantage.co/query?function=TIME_SERIES_WEEKLY_ADJUSTED&symbol={symbol}&outputsize=full&apikey={Special_API_key}')"
   ]
  },
  {
   "cell_type": "code",
   "execution_count": null,
   "id": "b10e5567",
   "metadata": {},
   "outputs": [],
   "source": [
    "# keep track of ranges (underlying facts about the data)\n",
    "# comparing first_date which is 5 to 11 days after earnings is announced to \n",
    "# second_date which is 341 to 347 after earnings is announced \n",
    "\n",
    "for stock, sector, industry  in stock_list.values[12:]:\n",
    "    \n",
    "    symbol = stock\n",
    "    \n",
    "    # if symbol is not valid then it will return an empty json object\n",
    "    income_api_url = f'https://www.alphavantage.co/query?function=INCOME_STATEMENT&symbol={symbol}&apikey={Special_API_key}'\n",
    "    income_data = requests.get(income_api_url).json()\n",
    "\n",
    "    cash_api_url = f'https://www.alphavantage.co/query?function=CASH_FLOW&symbol={symbol}&apikey={Special_API_key}'\n",
    "    cash_data = requests.get(cash_api_url).json()\n",
    "\n",
    "    balance_api_url = f'https://www.alphavantage.co/query?function=BALANCE_SHEET&symbol={symbol}&apikey={Special_API_key}'\n",
    "    balance_data = requests.get(balance_api_url).json()\n",
    "\n",
    "    price_api_url = f'https://www.alphavantage.co/query?function=TIME_SERIES_WEEKLY_ADJUSTED&symbol={symbol}&outputsize=full&apikey={Special_API_key}'\n",
    "    price_data = requests.get(price_api_url).json()\n",
    "    \n",
    "    try: \n",
    "        # extract financial statements \n",
    "        inc_data = income_data['annualReports'][-1].copy()\n",
    "        cas_data = cash_data['annualReports'][-1].copy()\n",
    "        bal_data = balance_data['annualReports'][-1].copy()\n",
    "    \n",
    "    except KeyError: \n",
    "        # len() should return 3 for each one, should return 0 if a valid api call was not performed, should return 1 if api call limit has been reached\n",
    "        print(f\"Error: {len(income_data)}{len(cash_data)}{len(balance_data)} could not load financial statements for \\t\\t {symbol}\")\n",
    "            \n",
    "        error_load = pd.concat([error_load, pd.Series(symbol)])\n",
    "        x += 1 \n",
    "        time.sleep(60)\n",
    "        continue # skips rest of code in this loop \n",
    "\n",
    "\n",
    "    earnings_date = inc_data['fiscalDateEnding']\n",
    "    currency = inc_data['reportedCurrency']\n",
    "\n",
    "    first_date = datetime.datetime.strptime(earnings_date, '%Y-%m-%d')\n",
    "    weekday = int(first_date.strftime('%w')) # Sunday is 0 and Saturday is 6. \n",
    "    \n",
    "    # changes the date to the following friday if it is a weekday \n",
    "    if  weekday == 1: # Monday  \n",
    "        first_date += datetime.timedelta(11)\n",
    "    elif weekday == 2: \n",
    "        first_date += datetime.timedelta(10)\n",
    "    elif weekday == 3: \n",
    "        first_date += datetime.timedelta(9)\n",
    "    elif weekday == 4: \n",
    "        first_date += datetime.timedelta(8)\n",
    "    elif weekday == 5: \n",
    "        first_date += datetime.timedelta(7) \n",
    "    elif weekday == 6: \n",
    "        first_date += datetime.timedelta(6)\n",
    "    elif weekday == 0: # Sunday \n",
    "        first_date += datetime.timedelta(5)\n",
    "    \n",
    "    # has to be a multiple of 7 (Ex. 7 * 48 = 336)\n",
    "    # second_date should be before next years annual earnings announcement\n",
    "    second_date = first_date + datetime.timedelta(336)\n",
    "    \n",
    "    first_date = first_date.strftime('%Y-%m-%d')\n",
    "    second_date = second_date.strftime('%Y-%m-%d')\n",
    "    \n",
    "    try: \n",
    "        first_price = price_data['Weekly Adjusted Time Series'][first_date]['5. adjusted close']\n",
    "        second_price = price_data['Weekly Adjusted Time Series'][second_date]['5. adjusted close']\n",
    "    except KeyError: \n",
    "        # len(price_data) should return 2, should return 0 if a valid api call was not performed, should return 1 if api call limit has been reached\n",
    "        print(f\"Error: {len(price_data)} price_data does not contain {first_date} or {second_date} \\t\\t {symbol}\")\n",
    "        \n",
    "        error_date = pd.concat([error_date, pd.Series(symbol)])\n",
    "        x += 1 \n",
    "        time.sleep(60)\n",
    "        continue\n",
    "        \n",
    "    first_price = float(first_price)\n",
    "    second_price = float(second_price)\n",
    "\n",
    "    perc_change = (second_price - first_price) / first_price\n",
    "\n",
    "    df_details = pd.DataFrame({'ticker': symbol, \n",
    "                               'sector': sector, \n",
    "                               'industry': industry, \n",
    "                               'earnings_date': earnings_date, \n",
    "                               'currency': currency, \n",
    "                               'current_price': first_price, \n",
    "                               'following_price': second_price,\n",
    "                               'first_price_date': first_date,\n",
    "                               'second_price_date': second_date, \n",
    "                               'percent_change': perc_change}, \n",
    "                              index=[0])\n",
    "\n",
    "    df_inc = pd.DataFrame(inc_data, index=[0])\n",
    "    df_inc.drop(['fiscalDateEnding', 'reportedCurrency'], axis=1, inplace=True)\n",
    "\n",
    "    df_bal = pd.DataFrame(bal_data, index=[0])\n",
    "    df_bal.drop(['fiscalDateEnding', 'reportedCurrency'], axis=1, inplace=True)\n",
    "\n",
    "    df_cas = pd.DataFrame(cas_data, index=[0])\n",
    "    df_cas.drop(['fiscalDateEnding', 'reportedCurrency', 'netIncome'], axis=1, inplace=True)\n",
    "\n",
    "    df_all = pd.concat([df_details, df_inc, df_cas, df_bal], keys=['details', 'income', 'cash', 'balance'], axis=1)\n",
    "\n",
    "    master_df = pd.concat([master_df, df_all], ignore_index=True)\n",
    "    \n",
    "    \n",
    "    \n",
    "    print(x, symbol)\n",
    "    x += 1 \n",
    "    \n",
    "    time.sleep(60)"
   ]
  },
  {
   "cell_type": "code",
   "execution_count": 17,
   "id": "ead20ece",
   "metadata": {},
   "outputs": [
    {
     "name": "stdout",
     "output_type": "stream",
     "text": [
      "Stored 'error_load' (Series)\n",
      "Stored 'error_date' (Series)\n",
      "Stored 'master_df' (DataFrame)\n",
      "Stored 'x' (int)\n"
     ]
    }
   ],
   "source": [
    "%store error_load \n",
    "%store error_date \n",
    "%store master_df\n",
    "%store x "
   ]
  },
  {
   "cell_type": "code",
   "execution_count": null,
   "id": "77b01b26",
   "metadata": {},
   "outputs": [],
   "source": [
    "# replaces any None values which are interpreted as a string which can not be changed to floats and then changes respective columns to floats\n",
    "master_df.iloc[:, 8:] = master_df.iloc[:, 8:].replace('None', np.nan).astype(float)"
   ]
  },
  {
   "cell_type": "code",
   "execution_count": 25,
   "id": "cd684cbb",
   "metadata": {},
   "outputs": [],
   "source": [
    "# flattens column index \n",
    "master_df.columns = master_df.columns.get_level_values(1)"
   ]
  },
  {
   "cell_type": "code",
   "execution_count": 26,
   "id": "d98ece9e",
   "metadata": {},
   "outputs": [],
   "source": [
    "master_df.to_csv('./financial_statements.csv', index=False)"
   ]
  }
 ],
 "metadata": {
  "kernelspec": {
   "display_name": "Python 3 (ipykernel)",
   "language": "python",
   "name": "python3"
  },
  "language_info": {
   "codemirror_mode": {
    "name": "ipython",
    "version": 3
   },
   "file_extension": ".py",
   "mimetype": "text/x-python",
   "name": "python",
   "nbconvert_exporter": "python",
   "pygments_lexer": "ipython3",
   "version": "3.9.13"
  }
 },
 "nbformat": 4,
 "nbformat_minor": 5
}
